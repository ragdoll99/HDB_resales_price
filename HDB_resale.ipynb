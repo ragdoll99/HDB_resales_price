{
 "cells": [
  {
   "cell_type": "code",
   "execution_count": 1,
   "id": "4c5bdf21",
   "metadata": {},
   "outputs": [],
   "source": [
    "import pandas as pd\n",
    "import numpy as np\n",
    "import re\n",
    "import seaborn as sns\n",
    "import matplotlib.pyplot as plt"
   ]
  },
  {
   "cell_type": "code",
   "execution_count": 2,
   "id": "17435d30",
   "metadata": {},
   "outputs": [
    {
     "data": {
      "text/html": [
       "<div>\n",
       "<style scoped>\n",
       "    .dataframe tbody tr th:only-of-type {\n",
       "        vertical-align: middle;\n",
       "    }\n",
       "\n",
       "    .dataframe tbody tr th {\n",
       "        vertical-align: top;\n",
       "    }\n",
       "\n",
       "    .dataframe thead th {\n",
       "        text-align: right;\n",
       "    }\n",
       "</style>\n",
       "<table border=\"1\" class=\"dataframe\">\n",
       "  <thead>\n",
       "    <tr style=\"text-align: right;\">\n",
       "      <th></th>\n",
       "      <th>month</th>\n",
       "      <th>town</th>\n",
       "      <th>flat_type</th>\n",
       "      <th>block</th>\n",
       "      <th>street_name</th>\n",
       "      <th>storey_range</th>\n",
       "      <th>floor_area_sqm</th>\n",
       "      <th>flat_model</th>\n",
       "      <th>lease_commence_date</th>\n",
       "      <th>resale_price</th>\n",
       "      <th>remaining_lease</th>\n",
       "    </tr>\n",
       "  </thead>\n",
       "  <tbody>\n",
       "    <tr>\n",
       "      <th>0</th>\n",
       "      <td>2012-03</td>\n",
       "      <td>ANG MO KIO</td>\n",
       "      <td>2 ROOM</td>\n",
       "      <td>172</td>\n",
       "      <td>ANG MO KIO AVE 4</td>\n",
       "      <td>06 TO 10</td>\n",
       "      <td>45.0</td>\n",
       "      <td>Improved</td>\n",
       "      <td>1986</td>\n",
       "      <td>250000.0</td>\n",
       "      <td>36</td>\n",
       "    </tr>\n",
       "    <tr>\n",
       "      <th>1</th>\n",
       "      <td>2012-03</td>\n",
       "      <td>ANG MO KIO</td>\n",
       "      <td>2 ROOM</td>\n",
       "      <td>510</td>\n",
       "      <td>ANG MO KIO AVE 8</td>\n",
       "      <td>01 TO 05</td>\n",
       "      <td>44.0</td>\n",
       "      <td>Improved</td>\n",
       "      <td>1980</td>\n",
       "      <td>265000.0</td>\n",
       "      <td>42</td>\n",
       "    </tr>\n",
       "    <tr>\n",
       "      <th>2</th>\n",
       "      <td>2012-03</td>\n",
       "      <td>ANG MO KIO</td>\n",
       "      <td>3 ROOM</td>\n",
       "      <td>610</td>\n",
       "      <td>ANG MO KIO AVE 4</td>\n",
       "      <td>06 TO 10</td>\n",
       "      <td>68.0</td>\n",
       "      <td>New Generation</td>\n",
       "      <td>1980</td>\n",
       "      <td>315000.0</td>\n",
       "      <td>42</td>\n",
       "    </tr>\n",
       "    <tr>\n",
       "      <th>3</th>\n",
       "      <td>2012-03</td>\n",
       "      <td>ANG MO KIO</td>\n",
       "      <td>3 ROOM</td>\n",
       "      <td>474</td>\n",
       "      <td>ANG MO KIO AVE 10</td>\n",
       "      <td>01 TO 05</td>\n",
       "      <td>67.0</td>\n",
       "      <td>New Generation</td>\n",
       "      <td>1984</td>\n",
       "      <td>320000.0</td>\n",
       "      <td>38</td>\n",
       "    </tr>\n",
       "    <tr>\n",
       "      <th>4</th>\n",
       "      <td>2012-03</td>\n",
       "      <td>ANG MO KIO</td>\n",
       "      <td>3 ROOM</td>\n",
       "      <td>604</td>\n",
       "      <td>ANG MO KIO AVE 5</td>\n",
       "      <td>06 TO 10</td>\n",
       "      <td>67.0</td>\n",
       "      <td>New Generation</td>\n",
       "      <td>1980</td>\n",
       "      <td>321000.0</td>\n",
       "      <td>42</td>\n",
       "    </tr>\n",
       "  </tbody>\n",
       "</table>\n",
       "</div>"
      ],
      "text/plain": [
       "     month        town flat_type block        street_name storey_range  \\\n",
       "0  2012-03  ANG MO KIO    2 ROOM   172   ANG MO KIO AVE 4     06 TO 10   \n",
       "1  2012-03  ANG MO KIO    2 ROOM   510   ANG MO KIO AVE 8     01 TO 05   \n",
       "2  2012-03  ANG MO KIO    3 ROOM   610   ANG MO KIO AVE 4     06 TO 10   \n",
       "3  2012-03  ANG MO KIO    3 ROOM   474  ANG MO KIO AVE 10     01 TO 05   \n",
       "4  2012-03  ANG MO KIO    3 ROOM   604   ANG MO KIO AVE 5     06 TO 10   \n",
       "\n",
       "   floor_area_sqm      flat_model  lease_commence_date  resale_price  \\\n",
       "0            45.0        Improved                 1986      250000.0   \n",
       "1            44.0        Improved                 1980      265000.0   \n",
       "2            68.0  New Generation                 1980      315000.0   \n",
       "3            67.0  New Generation                 1984      320000.0   \n",
       "4            67.0  New Generation                 1980      321000.0   \n",
       "\n",
       "   remaining_lease  \n",
       "0               36  \n",
       "1               42  \n",
       "2               42  \n",
       "3               38  \n",
       "4               42  "
      ]
     },
     "execution_count": 2,
     "metadata": {},
     "output_type": "execute_result"
    }
   ],
   "source": [
    "df_2017 = pd.read_csv(r'resale-flat-prices-based-on-registration-date-from-jan-2017-onwards.csv')\n",
    "df_2017['remaining_lease'] = df_2017['remaining_lease'].str.extract(r'(\\d?\\d)')\n",
    "df_2017[\"remaining_lease\"] = pd.to_numeric(df_2017[\"remaining_lease\"])\n",
    "df_2015 = pd.read_csv(r'resale-flat-prices-based-on-registration-date-from-jan-2015-to-dec-2016.csv')\n",
    "df_2012 = pd.read_csv(r'resale-flat-prices-based-on-registration-date-from-mar-2012-to-dec-2014.csv')\n",
    "df_2012['remaining_lease'] = 2022 - df_2012['lease_commence_date']\n",
    "df_2012.head()"
   ]
  },
  {
   "cell_type": "code",
   "execution_count": 3,
   "id": "a5aa52bc",
   "metadata": {},
   "outputs": [],
   "source": [
    "lst = [df_2017, df_2015, df_2012]\n",
    "df = pd.concat(lst)\n",
    "df.drop('lease_commence_date', axis=1, inplace=True)\n",
    "df.drop('street_name', axis=1, inplace=True)\n",
    "df['upper_storey'] = df['storey_range'].str.extract(r'.*(\\d\\d)$')\n",
    "df[\"upper_storey\"] = pd.to_numeric(df[\"upper_storey\"])\n",
    "df.drop('storey_range', axis=1, inplace=True)\n",
    "df.drop('block', axis=1, inplace=True)\n",
    "df['month'] = pd.to_datetime(df['month'],infer_datetime_format=True)\n",
    "df = df.set_index('month')"
   ]
  },
  {
   "cell_type": "code",
   "execution_count": 4,
   "id": "e584e7c2",
   "metadata": {},
   "outputs": [
    {
     "data": {
      "text/html": [
       "<div>\n",
       "<style scoped>\n",
       "    .dataframe tbody tr th:only-of-type {\n",
       "        vertical-align: middle;\n",
       "    }\n",
       "\n",
       "    .dataframe tbody tr th {\n",
       "        vertical-align: top;\n",
       "    }\n",
       "\n",
       "    .dataframe thead th {\n",
       "        text-align: right;\n",
       "    }\n",
       "</style>\n",
       "<table border=\"1\" class=\"dataframe\">\n",
       "  <thead>\n",
       "    <tr style=\"text-align: right;\">\n",
       "      <th></th>\n",
       "      <th>town</th>\n",
       "      <th>flat_type</th>\n",
       "      <th>floor_area_sqm</th>\n",
       "      <th>flat_model</th>\n",
       "      <th>remaining_lease</th>\n",
       "      <th>resale_price</th>\n",
       "      <th>upper_storey</th>\n",
       "    </tr>\n",
       "    <tr>\n",
       "      <th>month</th>\n",
       "      <th></th>\n",
       "      <th></th>\n",
       "      <th></th>\n",
       "      <th></th>\n",
       "      <th></th>\n",
       "      <th></th>\n",
       "      <th></th>\n",
       "    </tr>\n",
       "  </thead>\n",
       "  <tbody>\n",
       "    <tr>\n",
       "      <th>2017-01-01</th>\n",
       "      <td>ANG MO KIO</td>\n",
       "      <td>2 ROOM</td>\n",
       "      <td>44.0</td>\n",
       "      <td>Improved</td>\n",
       "      <td>61</td>\n",
       "      <td>232000.0</td>\n",
       "      <td>12</td>\n",
       "    </tr>\n",
       "    <tr>\n",
       "      <th>2017-01-01</th>\n",
       "      <td>ANG MO KIO</td>\n",
       "      <td>3 ROOM</td>\n",
       "      <td>67.0</td>\n",
       "      <td>New Generation</td>\n",
       "      <td>60</td>\n",
       "      <td>250000.0</td>\n",
       "      <td>3</td>\n",
       "    </tr>\n",
       "    <tr>\n",
       "      <th>2017-01-01</th>\n",
       "      <td>ANG MO KIO</td>\n",
       "      <td>3 ROOM</td>\n",
       "      <td>67.0</td>\n",
       "      <td>New Generation</td>\n",
       "      <td>62</td>\n",
       "      <td>262000.0</td>\n",
       "      <td>3</td>\n",
       "    </tr>\n",
       "    <tr>\n",
       "      <th>2017-01-01</th>\n",
       "      <td>ANG MO KIO</td>\n",
       "      <td>3 ROOM</td>\n",
       "      <td>68.0</td>\n",
       "      <td>New Generation</td>\n",
       "      <td>62</td>\n",
       "      <td>265000.0</td>\n",
       "      <td>6</td>\n",
       "    </tr>\n",
       "    <tr>\n",
       "      <th>2017-01-01</th>\n",
       "      <td>ANG MO KIO</td>\n",
       "      <td>3 ROOM</td>\n",
       "      <td>67.0</td>\n",
       "      <td>New Generation</td>\n",
       "      <td>62</td>\n",
       "      <td>265000.0</td>\n",
       "      <td>3</td>\n",
       "    </tr>\n",
       "  </tbody>\n",
       "</table>\n",
       "</div>"
      ],
      "text/plain": [
       "                  town flat_type  floor_area_sqm      flat_model  \\\n",
       "month                                                              \n",
       "2017-01-01  ANG MO KIO    2 ROOM            44.0        Improved   \n",
       "2017-01-01  ANG MO KIO    3 ROOM            67.0  New Generation   \n",
       "2017-01-01  ANG MO KIO    3 ROOM            67.0  New Generation   \n",
       "2017-01-01  ANG MO KIO    3 ROOM            68.0  New Generation   \n",
       "2017-01-01  ANG MO KIO    3 ROOM            67.0  New Generation   \n",
       "\n",
       "            remaining_lease  resale_price  upper_storey  \n",
       "month                                                    \n",
       "2017-01-01               61      232000.0            12  \n",
       "2017-01-01               60      250000.0             3  \n",
       "2017-01-01               62      262000.0             3  \n",
       "2017-01-01               62      265000.0             6  \n",
       "2017-01-01               62      265000.0             3  "
      ]
     },
     "execution_count": 4,
     "metadata": {},
     "output_type": "execute_result"
    }
   ],
   "source": [
    "df.head()"
   ]
  },
  {
   "cell_type": "markdown",
   "id": "0438ef20",
   "metadata": {},
   "source": [
    "# Predict Resales Price base on all the numerical variables"
   ]
  },
  {
   "cell_type": "code",
   "execution_count": 47,
   "id": "0935675a",
   "metadata": {},
   "outputs": [
    {
     "data": {
      "text/html": [
       "<div>\n",
       "<style scoped>\n",
       "    .dataframe tbody tr th:only-of-type {\n",
       "        vertical-align: middle;\n",
       "    }\n",
       "\n",
       "    .dataframe tbody tr th {\n",
       "        vertical-align: top;\n",
       "    }\n",
       "\n",
       "    .dataframe thead th {\n",
       "        text-align: right;\n",
       "    }\n",
       "</style>\n",
       "<table border=\"1\" class=\"dataframe\">\n",
       "  <thead>\n",
       "    <tr style=\"text-align: right;\">\n",
       "      <th></th>\n",
       "      <th>floor_area_sqm</th>\n",
       "      <th>remaining_lease</th>\n",
       "      <th>resale_price</th>\n",
       "      <th>upper_storey</th>\n",
       "    </tr>\n",
       "    <tr>\n",
       "      <th>month</th>\n",
       "      <th></th>\n",
       "      <th></th>\n",
       "      <th></th>\n",
       "      <th></th>\n",
       "    </tr>\n",
       "  </thead>\n",
       "  <tbody>\n",
       "    <tr>\n",
       "      <th>2017-01-01</th>\n",
       "      <td>44.0</td>\n",
       "      <td>61</td>\n",
       "      <td>232000.0</td>\n",
       "      <td>12</td>\n",
       "    </tr>\n",
       "    <tr>\n",
       "      <th>2017-01-01</th>\n",
       "      <td>67.0</td>\n",
       "      <td>60</td>\n",
       "      <td>250000.0</td>\n",
       "      <td>3</td>\n",
       "    </tr>\n",
       "    <tr>\n",
       "      <th>2017-01-01</th>\n",
       "      <td>67.0</td>\n",
       "      <td>62</td>\n",
       "      <td>262000.0</td>\n",
       "      <td>3</td>\n",
       "    </tr>\n",
       "    <tr>\n",
       "      <th>2017-01-01</th>\n",
       "      <td>68.0</td>\n",
       "      <td>62</td>\n",
       "      <td>265000.0</td>\n",
       "      <td>6</td>\n",
       "    </tr>\n",
       "    <tr>\n",
       "      <th>2017-01-01</th>\n",
       "      <td>67.0</td>\n",
       "      <td>62</td>\n",
       "      <td>265000.0</td>\n",
       "      <td>3</td>\n",
       "    </tr>\n",
       "  </tbody>\n",
       "</table>\n",
       "</div>"
      ],
      "text/plain": [
       "            floor_area_sqm  remaining_lease  resale_price  upper_storey\n",
       "month                                                                  \n",
       "2017-01-01            44.0               61      232000.0            12\n",
       "2017-01-01            67.0               60      250000.0             3\n",
       "2017-01-01            67.0               62      262000.0             3\n",
       "2017-01-01            68.0               62      265000.0             6\n",
       "2017-01-01            67.0               62      265000.0             3"
      ]
     },
     "execution_count": 47,
     "metadata": {},
     "output_type": "execute_result"
    }
   ],
   "source": [
    "# Predict Resales Price base on all the numberical variables\n",
    "df2 = df[['floor_area_sqm','remaining_lease','resale_price','upper_storey' ]]\n",
    "df2.head()\n"
   ]
  },
  {
   "cell_type": "code",
   "execution_count": 147,
   "id": "5c063b17",
   "metadata": {},
   "outputs": [
    {
     "data": {
      "text/plain": [
       "<AxesSubplot:>"
      ]
     },
     "execution_count": 147,
     "metadata": {},
     "output_type": "execute_result"
    },
    {
     "data": {
      "image/png": "[encoded data removed]",
      "text/plain": [
       "<Figure size 432x288 with 2 Axes>"
      ]
     },
     "metadata": {
      "needs_background": "light"
     },
     "output_type": "display_data"
    }
   ],
   "source": [
    "# Correlation for initial 3 numerical variables + our target: HDB resales price\n",
    "df2.corr()\n",
    "sns.heatmap(df2.corr(),annot=True,lw=1)"
   ]
  },
  {
   "cell_type": "code",
   "execution_count": 58,
   "id": "07644487",
   "metadata": {},
   "outputs": [
    {
     "name": "stdout",
     "output_type": "stream",
     "text": [
      "HDB resale price\n",
      "linear regression model intercept: [-23569.18962807]\n",
      "linear regression model coeff:\n",
      "[[3915.22186549  282.37943854 9253.40369092]]\n",
      "R-squared score (training): 0.536\n",
      "R-squared score (test): 0.537\n",
      "Number of features:\n",
      "3\n"
     ]
    }
   ],
   "source": [
    "from sklearn.model_selection import train_test_split\n",
    "from sklearn import preprocessing\n",
    "from sklearn.linear_model import Ridge\n",
    "from sklearn.linear_model import LinearRegression\n",
    "\n",
    "y = df2[['resale_price']]\n",
    "X = df2.drop('resale_price', axis=1)\n",
    "X_train, X_test, y_train, y_test = train_test_split(X, y, random_state = 0)\n",
    "\n",
    "linreg = LinearRegression().fit(X_train, y_train)\n",
    "\n",
    "# linreg.score(X_train_scaled, y_train), linreg.score(X_test_scaled, y_test)\n",
    "print('HDB resale price')\n",
    "print('linear regression model intercept: {}'\n",
    "     .format(linreg.intercept_))\n",
    "print('linear regression model coeff:\\n{}'\n",
    "     .format(linreg.coef_))\n",
    "print('R-squared score (training): {:.3f}'\n",
    "     .format(linreg.score(X_train, y_train)))\n",
    "print('R-squared score (test): {:.3f}'\n",
    "     .format(linreg.score(X_test, y_test)))\n",
    "print('Number of features:\\n{}'\n",
    "     .format(len(linreg.coef_[0])))"
   ]
  },
  {
   "cell_type": "markdown",
   "id": "767b91d1",
   "metadata": {},
   "source": [
    "### Linear Regression Model give a R-squared score of 0.537 for test data\n",
    "### let's try to check if we can improve the model by using polynomial features\n"
   ]
  },
  {
   "cell_type": "code",
   "execution_count": 59,
   "id": "f75999a6",
   "metadata": {},
   "outputs": [
    {
     "name": "stdout",
     "output_type": "stream",
     "text": [
      "(poly deg 2 + linear) linear model coeff (w):\n",
      "[[ 2.33437397e-03  7.44595433e+03 -3.88050216e+04 -3.44334688e+04\n",
      "   6.34254519e+01 -8.06569671e+02 -1.28696601e+02  1.66519418e+03\n",
      "   2.98317608e+03  1.52479482e+03  2.07091479e-01 -7.49742237e+00\n",
      "  -5.71872092e-01  4.45103287e+01  1.47840466e+01 -1.47338383e+01\n",
      "  -4.88618792e+01 -9.11126762e+01 -7.71400933e+01  2.06957851e+01\n",
      "  -2.90434838e-03  3.09068650e-02  2.99233228e-02  6.96752730e-02\n",
      "  -1.10703021e-01 -9.36436614e-02 -7.08226606e-01 -2.15813613e-02\n",
      "  -2.15288491e-01  1.55446794e+00  6.68557285e-01  1.08513211e+00\n",
      "   8.56341344e-01  1.46651725e+00 -3.61609092e+00  9.98434916e-06\n",
      "  -8.50726210e-05 -1.11539535e-04  3.39381968e-05  2.63937916e-04\n",
      "   2.80590098e-04 -5.01731189e-04 -2.84479920e-05  1.64285867e-03\n",
      "  -3.29253722e-03  3.75994952e-03 -7.36106886e-05  1.02003993e-03\n",
      "  -3.19821296e-03 -9.63751690e-03 -3.25118205e-03 -4.31840731e-03\n",
      "  -5.82827011e-03  1.89195573e-03 -1.51197169e-02  4.66535483e-02]]\n",
      "(poly deg 5 + linear) linear model intercept (b):[592849.02047768]\n",
      "(poly deg 5 + linear) R-squared score (training): 0.625\n",
      "(poly deg 5 + linear) R-squared score (test): 0.627\n"
     ]
    }
   ],
   "source": [
    "from sklearn.preprocessing import PolynomialFeatures\n",
    "\n",
    "poly = PolynomialFeatures(degree=5)\n",
    "X_poly_train = poly.fit_transform(X_train)\n",
    "X_poly_test = poly.transform(X_test)\n",
    "\n",
    "linreg_poly = LinearRegression().fit(X_poly_train, y_train)\n",
    "\n",
    "print('(poly deg 2 + linear) linear model coeff (w):\\n{}'\n",
    "     .format(linreg_poly.coef_))\n",
    "print('(poly deg 5 + linear) linear model intercept (b):{}'\n",
    "     .format(linreg_poly.intercept_))\n",
    "print('(poly deg 5 + linear) R-squared score (training): {:.3f}'\n",
    "     .format(linreg_poly.score(X_poly_train, y_train)))\n",
    "print('(poly deg 5 + linear) R-squared score (test): {:.3f}'\n",
    "     .format(linreg_poly.score(X_poly_test, y_test)))"
   ]
  },
  {
   "cell_type": "markdown",
   "id": "9daccad8",
   "metadata": {},
   "source": [
    "### seems like polynomial features have help us improve the model to 0.625, let's try do some prediction"
   ]
  },
  {
   "cell_type": "code",
   "execution_count": 60,
   "id": "c2f5df3d",
   "metadata": {},
   "outputs": [
    {
     "name": "stdout",
     "output_type": "stream",
     "text": [
      "Resale_Price  Actual Flat Type  Predicted Flat Type\n",
      "(340000.0, array([333234.94990634]))\n",
      "(545000.0, array([521920.08530148]))\n",
      "(510000.0, array([535942.28637497]))\n",
      "(540000.0, array([599205.89031871]))\n",
      "(778000.0, array([593236.56420312]))\n"
     ]
    }
   ],
   "source": [
    "linreg_poly_predict = zip(y_test['resale_price'].head(5), linreg_poly.predict(X_poly_test[0:5]))\n",
    "print(\"Resale_Price  Actual Flat Type  Predicted Flat Type\")\n",
    "for i in linreg_poly_predict:\n",
    "    print(i)"
   ]
  },
  {
   "cell_type": "markdown",
   "id": "3eac7771",
   "metadata": {},
   "source": [
    "### Let's try to include other categorial variables e.g. location, flat_type and flat_model"
   ]
  },
  {
   "cell_type": "code",
   "execution_count": 61,
   "id": "b49ee7b3",
   "metadata": {},
   "outputs": [
    {
     "data": {
      "text/html": [
       "<div>\n",
       "<style scoped>\n",
       "    .dataframe tbody tr th:only-of-type {\n",
       "        vertical-align: middle;\n",
       "    }\n",
       "\n",
       "    .dataframe tbody tr th {\n",
       "        vertical-align: top;\n",
       "    }\n",
       "\n",
       "    .dataframe thead th {\n",
       "        text-align: right;\n",
       "    }\n",
       "</style>\n",
       "<table border=\"1\" class=\"dataframe\">\n",
       "  <thead>\n",
       "    <tr style=\"text-align: right;\">\n",
       "      <th></th>\n",
       "      <th>floor_area_sqm</th>\n",
       "      <th>remaining_lease</th>\n",
       "      <th>resale_price</th>\n",
       "      <th>upper_storey</th>\n",
       "      <th>ANG MO KIO</th>\n",
       "      <th>BEDOK</th>\n",
       "      <th>BISHAN</th>\n",
       "      <th>BUKIT BATOK</th>\n",
       "      <th>BUKIT MERAH</th>\n",
       "      <th>BUKIT PANJANG</th>\n",
       "      <th>...</th>\n",
       "      <th>Terrace</th>\n",
       "      <th>Type S1</th>\n",
       "      <th>Type S2</th>\n",
       "      <th>1 ROOM</th>\n",
       "      <th>2 ROOM</th>\n",
       "      <th>3 ROOM</th>\n",
       "      <th>4 ROOM</th>\n",
       "      <th>5 ROOM</th>\n",
       "      <th>EXECUTIVE</th>\n",
       "      <th>MULTI-GENERATION</th>\n",
       "    </tr>\n",
       "    <tr>\n",
       "      <th>month</th>\n",
       "      <th></th>\n",
       "      <th></th>\n",
       "      <th></th>\n",
       "      <th></th>\n",
       "      <th></th>\n",
       "      <th></th>\n",
       "      <th></th>\n",
       "      <th></th>\n",
       "      <th></th>\n",
       "      <th></th>\n",
       "      <th></th>\n",
       "      <th></th>\n",
       "      <th></th>\n",
       "      <th></th>\n",
       "      <th></th>\n",
       "      <th></th>\n",
       "      <th></th>\n",
       "      <th></th>\n",
       "      <th></th>\n",
       "      <th></th>\n",
       "      <th></th>\n",
       "    </tr>\n",
       "  </thead>\n",
       "  <tbody>\n",
       "    <tr>\n",
       "      <th>2017-01-01</th>\n",
       "      <td>44.0</td>\n",
       "      <td>61</td>\n",
       "      <td>232000.0</td>\n",
       "      <td>12</td>\n",
       "      <td>1</td>\n",
       "      <td>0</td>\n",
       "      <td>0</td>\n",
       "      <td>0</td>\n",
       "      <td>0</td>\n",
       "      <td>0</td>\n",
       "      <td>...</td>\n",
       "      <td>0</td>\n",
       "      <td>0</td>\n",
       "      <td>0</td>\n",
       "      <td>0</td>\n",
       "      <td>1</td>\n",
       "      <td>0</td>\n",
       "      <td>0</td>\n",
       "      <td>0</td>\n",
       "      <td>0</td>\n",
       "      <td>0</td>\n",
       "    </tr>\n",
       "    <tr>\n",
       "      <th>2017-01-01</th>\n",
       "      <td>67.0</td>\n",
       "      <td>60</td>\n",
       "      <td>250000.0</td>\n",
       "      <td>3</td>\n",
       "      <td>1</td>\n",
       "      <td>0</td>\n",
       "      <td>0</td>\n",
       "      <td>0</td>\n",
       "      <td>0</td>\n",
       "      <td>0</td>\n",
       "      <td>...</td>\n",
       "      <td>0</td>\n",
       "      <td>0</td>\n",
       "      <td>0</td>\n",
       "      <td>0</td>\n",
       "      <td>0</td>\n",
       "      <td>1</td>\n",
       "      <td>0</td>\n",
       "      <td>0</td>\n",
       "      <td>0</td>\n",
       "      <td>0</td>\n",
       "    </tr>\n",
       "    <tr>\n",
       "      <th>2017-01-01</th>\n",
       "      <td>67.0</td>\n",
       "      <td>62</td>\n",
       "      <td>262000.0</td>\n",
       "      <td>3</td>\n",
       "      <td>1</td>\n",
       "      <td>0</td>\n",
       "      <td>0</td>\n",
       "      <td>0</td>\n",
       "      <td>0</td>\n",
       "      <td>0</td>\n",
       "      <td>...</td>\n",
       "      <td>0</td>\n",
       "      <td>0</td>\n",
       "      <td>0</td>\n",
       "      <td>0</td>\n",
       "      <td>0</td>\n",
       "      <td>1</td>\n",
       "      <td>0</td>\n",
       "      <td>0</td>\n",
       "      <td>0</td>\n",
       "      <td>0</td>\n",
       "    </tr>\n",
       "    <tr>\n",
       "      <th>2017-01-01</th>\n",
       "      <td>68.0</td>\n",
       "      <td>62</td>\n",
       "      <td>265000.0</td>\n",
       "      <td>6</td>\n",
       "      <td>1</td>\n",
       "      <td>0</td>\n",
       "      <td>0</td>\n",
       "      <td>0</td>\n",
       "      <td>0</td>\n",
       "      <td>0</td>\n",
       "      <td>...</td>\n",
       "      <td>0</td>\n",
       "      <td>0</td>\n",
       "      <td>0</td>\n",
       "      <td>0</td>\n",
       "      <td>0</td>\n",
       "      <td>1</td>\n",
       "      <td>0</td>\n",
       "      <td>0</td>\n",
       "      <td>0</td>\n",
       "      <td>0</td>\n",
       "    </tr>\n",
       "    <tr>\n",
       "      <th>2017-01-01</th>\n",
       "      <td>67.0</td>\n",
       "      <td>62</td>\n",
       "      <td>265000.0</td>\n",
       "      <td>3</td>\n",
       "      <td>1</td>\n",
       "      <td>0</td>\n",
       "      <td>0</td>\n",
       "      <td>0</td>\n",
       "      <td>0</td>\n",
       "      <td>0</td>\n",
       "      <td>...</td>\n",
       "      <td>0</td>\n",
       "      <td>0</td>\n",
       "      <td>0</td>\n",
       "      <td>0</td>\n",
       "      <td>0</td>\n",
       "      <td>1</td>\n",
       "      <td>0</td>\n",
       "      <td>0</td>\n",
       "      <td>0</td>\n",
       "      <td>0</td>\n",
       "    </tr>\n",
       "  </tbody>\n",
       "</table>\n",
       "<p>5 rows × 58 columns</p>\n",
       "</div>"
      ],
      "text/plain": [
       "            floor_area_sqm  remaining_lease  resale_price  upper_storey  \\\n",
       "month                                                                     \n",
       "2017-01-01            44.0               61      232000.0            12   \n",
       "2017-01-01            67.0               60      250000.0             3   \n",
       "2017-01-01            67.0               62      262000.0             3   \n",
       "2017-01-01            68.0               62      265000.0             6   \n",
       "2017-01-01            67.0               62      265000.0             3   \n",
       "\n",
       "            ANG MO KIO  BEDOK  BISHAN  BUKIT BATOK  BUKIT MERAH  \\\n",
       "month                                                             \n",
       "2017-01-01           1      0       0            0            0   \n",
       "2017-01-01           1      0       0            0            0   \n",
       "2017-01-01           1      0       0            0            0   \n",
       "2017-01-01           1      0       0            0            0   \n",
       "2017-01-01           1      0       0            0            0   \n",
       "\n",
       "            BUKIT PANJANG  ...  Terrace  Type S1  Type S2  1 ROOM  2 ROOM  \\\n",
       "month                      ...                                              \n",
       "2017-01-01              0  ...        0        0        0       0       1   \n",
       "2017-01-01              0  ...        0        0        0       0       0   \n",
       "2017-01-01              0  ...        0        0        0       0       0   \n",
       "2017-01-01              0  ...        0        0        0       0       0   \n",
       "2017-01-01              0  ...        0        0        0       0       0   \n",
       "\n",
       "            3 ROOM  4 ROOM  5 ROOM  EXECUTIVE  MULTI-GENERATION  \n",
       "month                                                            \n",
       "2017-01-01       0       0       0          0                 0  \n",
       "2017-01-01       1       0       0          0                 0  \n",
       "2017-01-01       1       0       0          0                 0  \n",
       "2017-01-01       1       0       0          0                 0  \n",
       "2017-01-01       1       0       0          0                 0  \n",
       "\n",
       "[5 rows x 58 columns]"
      ]
     },
     "execution_count": 61,
     "metadata": {},
     "output_type": "execute_result"
    }
   ],
   "source": [
    "# Predict Resales Price base on all the numberical variables\n",
    "\n",
    "scaler = preprocessing.MinMaxScaler()\n",
    "\n",
    "# Create Dummy Variables\n",
    "df_town = pd.get_dummies(df['town'])\n",
    "df_flat_model = pd.get_dummies(df['flat_model'])\n",
    "df_flat_type = pd.get_dummies(df['flat_type'])\n",
    "\n",
    "# Drop duplicated columns\n",
    "df2 = df.drop('town', axis=1)\n",
    "df2.drop('flat_model', axis=1, inplace=True)\n",
    "df2.drop('flat_type', axis=1, inplace=True)\n",
    "\n",
    "X = pd.concat([df2, df_town, df_flat_model, df_flat_type], axis = 1)\n",
    "X.head()"
   ]
  },
  {
   "cell_type": "code",
   "execution_count": 62,
   "id": "a578e6c5",
   "metadata": {},
   "outputs": [
    {
     "name": "stdout",
     "output_type": "stream",
     "text": [
      "HDB resale price\n",
      "linear regression model intercept: [2.94340739e+16]\n",
      "linear regression model coeff:\n",
      "[[ 3.16955489e+05  1.12836696e+04  2.64847925e+05  6.01852378e+15\n",
      "   6.01852378e+15  6.01852378e+15  6.01852378e+15  6.01852378e+15\n",
      "   6.01852378e+15  6.01852378e+15  6.01852378e+15  6.01852378e+15\n",
      "   6.01852378e+15  6.01852378e+15  6.01852378e+15  6.01852378e+15\n",
      "   6.01852378e+15  6.01852378e+15  6.01852378e+15  6.01852378e+15\n",
      "   6.01852378e+15  6.01852378e+15  6.01852378e+15  6.01852378e+15\n",
      "   6.01852378e+15  6.01852378e+15  6.01852378e+15  6.01852378e+15\n",
      "   6.01852378e+15  4.81933990e+15  4.81933990e+15  4.81933990e+15\n",
      "   4.81933990e+15  4.81933990e+15  4.81933990e+15  4.81933990e+15\n",
      "   4.81933990e+15  4.81933990e+15  4.81933990e+15  4.81933990e+15\n",
      "  -1.82620537e+16  4.81933990e+15  4.81933990e+15  4.81933990e+15\n",
      "   4.81933990e+15  4.81933990e+15  4.81933990e+15  4.81933990e+15\n",
      "   4.81933990e+15  4.81933990e+15 -4.02719376e+16 -4.02719376e+16\n",
      "  -4.02719376e+16 -4.02719376e+16 -4.02719376e+16 -4.02719376e+16\n",
      "  -1.71905440e+16]]\n",
      "R-squared score (training): 0.778\n",
      "R-squared score (test): 0.779\n",
      "Number of features:\n",
      "57\n"
     ]
    }
   ],
   "source": [
    "y = X[['resale_price']]\n",
    "X = X.drop('resale_price', axis=1)\n",
    "X_train, X_test, y_train, y_test = train_test_split(X, y, random_state = 0)\n",
    "\n",
    "\n",
    "X_train_scaled = scaler.fit_transform(X_train)\n",
    "X_test_scaled = scaler.transform(X_test)\n",
    "\n",
    "linreg = LinearRegression().fit(X_train_scaled, y_train)\n",
    "\n",
    "# linreg.score(X_train_scaled, y_train), linreg.score(X_test_scaled, y_test)\n",
    "print('HDB resale price')\n",
    "print('linear regression model intercept: {}'\n",
    "     .format(linreg.intercept_))\n",
    "print('linear regression model coeff:\\n{}'\n",
    "     .format(linreg.coef_))\n",
    "print('R-squared score (training): {:.3f}'\n",
    "     .format(linreg.score(X_train_scaled, y_train)))\n",
    "print('R-squared score (test): {:.3f}'\n",
    "     .format(linreg.score(X_test_scaled, y_test)))\n",
    "print('Number of features:\\n{}'\n",
    "     .format(len(linreg.coef_[0])))"
   ]
  },
  {
   "cell_type": "markdown",
   "id": "25a01511",
   "metadata": {},
   "source": [
    "### With Logistics Regression, we achieved a R-squared score of 0.779. Let's try if using Lasso Regression would help us get rid of some of the variables and improve R-squared score (it doesn't make sense to get ridge of individual dummy variables by itself, but it is worth exploring. "
   ]
  },
  {
   "cell_type": "code",
   "execution_count": 50,
   "id": "ed5f8979",
   "metadata": {},
   "outputs": [
    {
     "name": "stdout",
     "output_type": "stream",
     "text": [
      "HDB resale price\n",
      "ridge regression linear model intercept: [425730.36445463]\n",
      "ridge regression linear model coeff:\n",
      "[ 3.18307379e+05  1.12423616e+04  2.65229548e+05  4.46296893e+04\n",
      "  2.66141403e+04  1.29066708e+05 -2.41673613e+04  1.57591300e+05\n",
      " -6.23389807e+04  2.18249416e+05  1.24094937e+05 -8.63462022e+04\n",
      "  7.93514802e+04  7.52068363e+04 -1.47685827e+04 -1.07481966e+04\n",
      " -6.89746619e+04  9.54805076e+04  1.65940654e+05 -3.44881698e+04\n",
      " -2.33622475e+04  1.60598692e+05 -9.95967334e+04 -4.51850326e+04\n",
      "  4.82659687e+04 -2.46706369e+00  7.48509643e+04 -8.01765764e+04\n",
      " -4.06617080e+04 -1.96845773e+03  0.00000000e+00 -4.87395322e+04\n",
      " -2.46815915e+04  9.90322597e+04 -1.29603769e+05  2.46344162e+04\n",
      "  0.00000000e+00 -6.10915541e+04  3.03818586e+03 -8.58128040e+04\n",
      "  1.30125166e+05 -1.09720019e+05 -5.94171710e+04  1.38296285e+05\n",
      "  6.77376877e+03 -1.15042417e+05 -1.75119024e+05  2.92983220e+05\n",
      "  1.66172987e+05  1.74363441e+05 -2.72868173e+05 -1.55163559e+05\n",
      " -1.02834383e+05 -1.45616964e+04  9.24164006e+04  9.31631637e+04\n",
      "  3.79264927e+04]\n",
      "R-squared score (training): 0.778\n",
      "R-squared score (test): 0.779\n",
      "Number of non-zero features: 55\n"
     ]
    }
   ],
   "source": [
    "from sklearn.linear_model import Lasso\n",
    "import warnings\n",
    "warnings.simplefilter('ignore', UserWarning)\n",
    "linlasso = Lasso(alpha=2.0, max_iter = 10000).fit(X_train_scaled, y_train)\n",
    "\n",
    "print('HDB resale price')\n",
    "print('ridge regression linear model intercept: {}'\n",
    "     .format(linlasso.intercept_))\n",
    "print('ridge regression linear model coeff:\\n{}'\n",
    "     .format(linlasso.coef_))\n",
    "print('R-squared score (training): {:.3f}'\n",
    "     .format(linlasso.score(X_train_scaled, y_train)))\n",
    "print('R-squared score (test): {:.3f}'\n",
    "     .format(linlasso.score(X_test_scaled, y_test)))\n",
    "print('Number of non-zero features: {}'\n",
    "     .format(np.sum(linlasso.coef_ != 0)))\n"
   ]
  },
  {
   "cell_type": "markdown",
   "id": "bcb17787",
   "metadata": {},
   "source": [
    "###  Lasso did variables selction and set 2 variables to 0, however, it didnt help to improve R-square score. \n"
   ]
  },
  {
   "cell_type": "markdown",
   "id": "137b15b1",
   "metadata": {},
   "source": [
    "### Let's use the logistics regression to do some prediction"
   ]
  },
  {
   "cell_type": "code",
   "execution_count": 67,
   "id": "c3d97e53",
   "metadata": {},
   "outputs": [
    {
     "name": "stdout",
     "output_type": "stream",
     "text": [
      "Actual Resale_Price  Predicted Resales Price\n",
      "(988000.0, array([992816.]))\n",
      "(350000.0, array([484720.]))\n",
      "(450000.0, array([595264.]))\n",
      "(275000.0, array([261768.]))\n",
      "(315000.0, array([300068.]))\n"
     ]
    }
   ],
   "source": [
    "linreg_predict = zip(y_test['resale_price'].tail(5), linreg.predict(X_test_scaled[-5:]))\n",
    "print(\"Actual Resale_Price  Predicted Resales Price\")\n",
    "for i in linreg_predict:\n",
    "    print(i)"
   ]
  },
  {
   "cell_type": "markdown",
   "id": "30e24395",
   "metadata": {},
   "source": [
    "# Classification Model\n",
    "### let's see how to use the data with dummies categorical variables to come out with a classifcation model\n",
    "Target = Flat Type (how many rooms / exec HDB)"
   ]
  },
  {
   "cell_type": "code",
   "execution_count": 70,
   "id": "8f9ff8e0",
   "metadata": {},
   "outputs": [],
   "source": [
    "# Create Dummy Variables\n",
    "df_town = pd.get_dummies(df['town'])\n",
    "df_flat_model = pd.get_dummies(df['flat_model'])\n",
    "\n",
    "# Drop duplicated columns\n",
    "df3 = df.drop('town', axis=1)\n",
    "df3.drop('flat_model', axis=1, inplace=True)\n",
    "\n",
    "X = pd.concat([df3, df_town, df_flat_model], axis = 1)\n",
    "\n",
    "y = df3[['flat_type']]\n",
    "X = df3.drop('flat_type', axis=1)\n",
    "X_train, X_test, y_train, y_test = train_test_split(X, y, random_state = 0)\n",
    "\n",
    "\n",
    "X_train_scaled = scaler.fit_transform(X_train)\n",
    "X_test_scaled = scaler.transform(X_test)\n"
   ]
  },
  {
   "cell_type": "markdown",
   "id": "f1ec3247",
   "metadata": {},
   "source": [
    "### Let's try using Dummy Classifier, see what would be the test score"
   ]
  },
  {
   "cell_type": "code",
   "execution_count": 73,
   "id": "5a3a2ac3",
   "metadata": {},
   "outputs": [
    {
     "name": "stdout",
     "output_type": "stream",
     "text": [
      "dummy majority R-squared score (training): 0.408\n",
      "dummy majority R-squared score (test): 0.411\n",
      "dummy stratified R-squared score (training): 0.296\n",
      "dummy stratified R-squared score (test): 0.296\n"
     ]
    }
   ],
   "source": [
    "from sklearn.dummy import DummyClassifier\n",
    "\n",
    "dummy_majority = DummyClassifier(strategy = 'most_frequent').fit(X_train_scaled, y_train)\n",
    "\n",
    "dummy_stratified = DummyClassifier(strategy = 'stratified').fit(X_train_scaled, y_train)\n",
    "\n",
    "print('dummy majority R-squared score (training): {:.3f}'\n",
    "     .format(dummy_majority.score(X_train_scaled, y_train)))\n",
    "print('dummy majority R-squared score (test): {:.3f}'\n",
    "     .format(dummy_majority.score(X_test_scaled, y_test)))\n",
    "\n",
    "print('dummy stratified R-squared score (training): {:.3f}'\n",
    "     .format(dummy_stratified.score(X_train_scaled, y_train)))\n",
    "print('dummy stratified R-squared score (test): {:.3f}'\n",
    "     .format(dummy_stratified.score(X_test_scaled, y_test)))\n"
   ]
  },
  {
   "cell_type": "markdown",
   "id": "94dac5cc",
   "metadata": {},
   "source": [
    "### First using Naive Bayesian"
   ]
  },
  {
   "cell_type": "code",
   "execution_count": 74,
   "id": "dbb3adda",
   "metadata": {},
   "outputs": [
    {
     "name": "stdout",
     "output_type": "stream",
     "text": [
      "Naive Bayes Classifier R-squared score (training): 0.943\n",
      "Naive Bayes Classifier R-squared score (test): 0.946\n"
     ]
    }
   ],
   "source": [
    "from sklearn.naive_bayes import GaussianNB\n",
    "import warnings\n",
    "warnings.simplefilter('ignore', UserWarning)\n",
    "\n",
    "nbclf = GaussianNB().fit(X_train_scaled, y_train)\n",
    "\n",
    "print('Naive Bayes Classifier R-squared score (training): {:.3f}'\n",
    "     .format(nbclf.score(X_train_scaled, y_train)))\n",
    "print('Naive Bayes Classifier R-squared score (test): {:.3f}'\n",
    "     .format(nbclf.score(X_test_scaled, y_test)))"
   ]
  },
  {
   "cell_type": "markdown",
   "id": "b871e0fc",
   "metadata": {},
   "source": [
    "Let's try to predict something"
   ]
  },
  {
   "cell_type": "code",
   "execution_count": 75,
   "id": "8226f17b",
   "metadata": {},
   "outputs": [
    {
     "data": {
      "text/plain": [
       "array([[0.14859438, 0.35632184, 0.15649452, 0.        ],\n",
       "       [0.37349398, 0.81609195, 0.31690141, 0.125     ],\n",
       "       [0.36144578, 0.64367816, 0.28951487, 0.125     ],\n",
       "       [0.45381526, 0.79310345, 0.31298905, 0.0625    ],\n",
       "       [0.31726908, 0.7816092 , 0.49921753, 0.375     ]])"
      ]
     },
     "execution_count": 75,
     "metadata": {},
     "output_type": "execute_result"
    }
   ],
   "source": [
    "X_test_scaled[0:5]"
   ]
  },
  {
   "cell_type": "code",
   "execution_count": 78,
   "id": "3d6f35c2",
   "metadata": {},
   "outputs": [
    {
     "name": "stdout",
     "output_type": "stream",
     "text": [
      "(Resale_Price,  Actual Type,  Predicted Type)\n",
      "(340000.0, '3 ROOM', '3 ROOM')\n",
      "(545000.0, '5 ROOM', '5 ROOM')\n",
      "(510000.0, '5 ROOM', '5 ROOM')\n",
      "(540000.0, 'EXECUTIVE', 'EXECUTIVE')\n",
      "(778000.0, '5 ROOM', '5 ROOM')\n"
     ]
    }
   ],
   "source": [
    "# Get attribute from Test data: \n",
    "nbclf_predict = zip(X_test['resale_price'].head(5), y_test['flat_type'].head(5), nbclf.predict(X_test_scaled[0:5]))\n",
    "print(\"(Resale_Price,  Actual Type,  Predicted Type)\")\n",
    "for i in nbclf_predict:\n",
    "    print(i)"
   ]
  },
  {
   "cell_type": "markdown",
   "id": "4df2f7b6",
   "metadata": {},
   "source": [
    "### Let's try Neural Network"
   ]
  },
  {
   "cell_type": "code",
   "execution_count": 77,
   "id": "4733a1bd",
   "metadata": {},
   "outputs": [
    {
     "name": "stdout",
     "output_type": "stream",
     "text": [
      "MLPClassifier R-squared score (training): 0.948\n",
      "MLPClassifier R-squared score (test): 0.951\n"
     ]
    }
   ],
   "source": [
    "from sklearn.neural_network import MLPClassifier\n",
    "\n",
    "nnclf = MLPClassifier(hidden_layer_sizes = [1,100], solver='lbfgs', random_state = 0).fit(X_train_scaled, y_train)\n",
    "\n",
    "print('MLPClassifier R-squared score (training): {:.3f}'\n",
    "     .format(nnclf.score(X_train_scaled, y_train)))\n",
    "print('MLPClassifier R-squared score (test): {:.3f}'\n",
    "     .format(nnclf.score(X_test_scaled, y_test)))\n",
    "# nnclf.score(X_train_scaled, y_train) , nnclf.score(X_test_scaled, y_test)"
   ]
  },
  {
   "cell_type": "code",
   "execution_count": 79,
   "id": "af56e1c5",
   "metadata": {},
   "outputs": [
    {
     "name": "stdout",
     "output_type": "stream",
     "text": [
      "(Resale_Price,  Actual Type,  Predicted Type)\n",
      "(340000.0, '3 ROOM', '3 ROOM')\n",
      "(545000.0, '5 ROOM', '5 ROOM')\n",
      "(510000.0, '5 ROOM', '5 ROOM')\n",
      "(540000.0, 'EXECUTIVE', 'EXECUTIVE')\n",
      "(778000.0, '5 ROOM', '5 ROOM')\n",
      "(449000.0, '4 ROOM', '4 ROOM')\n",
      "(368000.0, '4 ROOM', '4 ROOM')\n",
      "(345000.0, '4 ROOM', '4 ROOM')\n",
      "(335000.0, '3 ROOM', '3 ROOM')\n",
      "(698000.0, '5 ROOM', '5 ROOM')\n",
      "(449000.0, '5 ROOM', '5 ROOM')\n",
      "(375000.0, '4 ROOM', '4 ROOM')\n",
      "(415000.0, '4 ROOM', '4 ROOM')\n",
      "(760000.0, 'EXECUTIVE', 'EXECUTIVE')\n",
      "(330000.0, '3 ROOM', '3 ROOM')\n",
      "(421000.0, '5 ROOM', '5 ROOM')\n",
      "(450000.0, '4 ROOM', '4 ROOM')\n",
      "(648000.0, 'EXECUTIVE', 'EXECUTIVE')\n",
      "(458000.0, '4 ROOM', '4 ROOM')\n",
      "(405000.0, '4 ROOM', '4 ROOM')\n"
     ]
    }
   ],
   "source": [
    "nnclf_prediction = zip(X_test['resale_price'].head(20), y_test['flat_type'].head(20), nnclf.predict(X_test_scaled[0:20]))\n",
    "print(\"(Resale_Price,  Actual Type,  Predicted Type)\")\n",
    "for i in nnclf_prediction:\n",
    "    print(i)"
   ]
  },
  {
   "cell_type": "markdown",
   "id": "40c080f6",
   "metadata": {},
   "source": [
    "### Let's try Gradient Boosting Classifier"
   ]
  },
  {
   "cell_type": "code",
   "execution_count": 80,
   "id": "b9f1adf9",
   "metadata": {},
   "outputs": [
    {
     "data": {
      "text/plain": [
       "(0.9879917480532799, 0.9882839051264622)"
      ]
     },
     "execution_count": 80,
     "metadata": {},
     "output_type": "execute_result"
    }
   ],
   "source": [
    "from sklearn.ensemble import GradientBoostingClassifier\n",
    "\n",
    "GBclf = GradientBoostingClassifier().fit(X_train_scaled, y_train)\n",
    "GBclf.score(X_train_scaled, y_train) , GBclf.score(X_test_scaled, y_test)"
   ]
  },
  {
   "cell_type": "code",
   "execution_count": 82,
   "id": "42b5d1dd",
   "metadata": {},
   "outputs": [
    {
     "name": "stdout",
     "output_type": "stream",
     "text": [
      "Gradient Boosting Classifier R-squared score (training): 0.988\n",
      "Gradient Boosting Classifier R-squared score (test): 0.988\n"
     ]
    }
   ],
   "source": [
    "print('Gradient Boosting Classifier R-squared score (training): {:.3f}'\n",
    "     .format(GBclf.score(X_train_scaled, y_train)))\n",
    "print('Gradient Boosting Classifier R-squared score (test): {:.3f}'\n",
    "     .format(GBclf.score(X_test_scaled, y_test)))"
   ]
  },
  {
   "cell_type": "markdown",
   "id": "f1a4312b",
   "metadata": {},
   "source": [
    "#### look like R-squared score have been improved"
   ]
  },
  {
   "cell_type": "code",
   "execution_count": 83,
   "id": "cbb0c807",
   "metadata": {},
   "outputs": [
    {
     "name": "stdout",
     "output_type": "stream",
     "text": [
      "(Resale_Price,  Actual Type,  Predicted Type)\n",
      "(340000.0, '3 ROOM', '3 ROOM')\n",
      "(545000.0, '5 ROOM', '5 ROOM')\n",
      "(510000.0, '5 ROOM', '5 ROOM')\n",
      "(540000.0, 'EXECUTIVE', 'EXECUTIVE')\n",
      "(778000.0, '5 ROOM', '5 ROOM')\n",
      "(449000.0, '4 ROOM', '4 ROOM')\n",
      "(368000.0, '4 ROOM', '4 ROOM')\n",
      "(345000.0, '4 ROOM', '4 ROOM')\n",
      "(335000.0, '3 ROOM', '3 ROOM')\n",
      "(698000.0, '5 ROOM', '5 ROOM')\n",
      "(449000.0, '5 ROOM', '5 ROOM')\n",
      "(375000.0, '4 ROOM', '4 ROOM')\n",
      "(415000.0, '4 ROOM', '4 ROOM')\n",
      "(760000.0, 'EXECUTIVE', 'EXECUTIVE')\n",
      "(330000.0, '3 ROOM', '3 ROOM')\n",
      "(421000.0, '5 ROOM', '5 ROOM')\n",
      "(450000.0, '4 ROOM', '4 ROOM')\n",
      "(648000.0, 'EXECUTIVE', 'EXECUTIVE')\n",
      "(458000.0, '4 ROOM', '4 ROOM')\n",
      "(405000.0, '4 ROOM', '4 ROOM')\n"
     ]
    }
   ],
   "source": [
    "# let's do prediction\n",
    "gbclf_predict = zip(X_test['resale_price'].head(20), y_test['flat_type'].head(20), GBclf.predict(X_test_scaled[0:20]))\n",
    "print(\"(Resale_Price,  Actual Type,  Predicted Type)\")\n",
    "for i in gbclf_predict:\n",
    "    print(i)"
   ]
  }
 ],
 "metadata": {
  "kernelspec": {
   "display_name": "Python 3 (ipykernel)",
   "language": "python",
   "name": "python3"
  },
  "language_info": {
   "codemirror_mode": {
    "name": "ipython",
    "version": 3
   },
   "file_extension": ".py",
   "mimetype": "text/x-python",
   "name": "python",
   "nbconvert_exporter": "python",
   "pygments_lexer": "ipython3",
   "version": "3.9.12"
  }
 },
 "nbformat": 4,
 "nbformat_minor": 5
}
